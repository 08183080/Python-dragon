{
 "cells": [
  {
   "cell_type": "markdown",
   "metadata": {},
   "source": [
    "# 面向对象"
   ]
  },
  {
   "cell_type": "markdown",
   "metadata": {},
   "source": [
    "## 序言"
   ]
  },
  {
   "cell_type": "markdown",
   "metadata": {},
   "source": [
    "在Python中，一个int（整数）的大小是动态的，它会根据需要自动调整大小以适应所存储的整数值。Python的整数类型可以表示非常大的整数，取决于可用内存。\n",
    "\n",
    "这是因为Python中的整数不受固定的位数限制，而是可以根据需要自动扩展。这一特性使Python非常适合处理大数值，例如用于科学计算、数据分析和密码学等领域。\n",
    "\n",
    "你可以尝试在Python中创建一个非常大的整数，Python会根据需要调整内部存储以容纳它，不会受到固定大小的限制。"
   ]
  },
  {
   "cell_type": "code",
   "execution_count": 1,
   "metadata": {},
   "outputs": [
    {
     "name": "stdout",
     "output_type": "stream",
     "text": [
      "1234567890123456789012345678901234567890\n"
     ]
    }
   ],
   "source": [
    "large_integer = 1234567890123456789012345678901234567890\n",
    "print(large_integer)"
   ]
  },
  {
   "cell_type": "code",
   "execution_count": null,
   "metadata": {},
   "outputs": [],
   "source": []
  }
 ],
 "metadata": {
  "kernelspec": {
   "display_name": "Python 3",
   "language": "python",
   "name": "python3"
  },
  "language_info": {
   "codemirror_mode": {
    "name": "ipython",
    "version": 3
   },
   "file_extension": ".py",
   "mimetype": "text/x-python",
   "name": "python",
   "nbconvert_exporter": "python",
   "pygments_lexer": "ipython3",
   "version": "3.10.10"
  }
 },
 "nbformat": 4,
 "nbformat_minor": 2
}
