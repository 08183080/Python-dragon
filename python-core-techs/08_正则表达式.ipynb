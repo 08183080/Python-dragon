{
 "cells": [
  {
   "cell_type": "markdown",
   "metadata": {},
   "source": [
    "# 正则表达式"
   ]
  },
  {
   "cell_type": "markdown",
   "metadata": {},
   "source": [
    "## re.match()"
   ]
  },
  {
   "cell_type": "markdown",
   "metadata": {},
   "source": [
    "```\n",
    "re.match(pattern, string, flag=0)\n",
    "```\n",
    "pattern是模式串, string是字符串\\\n",
    "re.match 尝试从字符串的起始位置匹配一个模式，如果不是起始位置匹配成功的话，match() 就返回 none。"
   ]
  },
  {
   "cell_type": "code",
   "execution_count": 11,
   "metadata": {},
   "outputs": [
    {
     "name": "stdout",
     "output_type": "stream",
     "text": [
      "(0, 3)\n"
     ]
    }
   ],
   "source": [
    "import re\n",
    "print(re.match('www', 'www.baidu.com').span()) #在起始位置匹配"
   ]
  },
  {
   "cell_type": "code",
   "execution_count": 9,
   "metadata": {},
   "outputs": [
    {
     "name": "stdout",
     "output_type": "stream",
     "text": [
      "None\n"
     ]
    }
   ],
   "source": [
    "print(re.match('com', 'www.baidu.com')) #不在起始位置匹配"
   ]
  },
  {
   "cell_type": "code",
   "execution_count": 15,
   "metadata": {},
   "outputs": [
    {
     "name": "stdout",
     "output_type": "stream",
     "text": [
      "Cats are smarter than dogs\n",
      "Cats\n",
      "smarter\n"
     ]
    }
   ],
   "source": [
    "line = \"Cats are smarter than dogs\"\n",
    " \n",
    "matchObj = re.match( r'(.*) are (.*?) .*', line, re.M|re.I)\n",
    "\n",
    "if matchObj:\n",
    "    print(matchObj.group())\n",
    "    print(matchObj.group(1))\n",
    "    print(matchObj.group(2))\n",
    "    # print(matchObj.group(3))"
   ]
  },
  {
   "cell_type": "markdown",
   "metadata": {},
   "source": [
    "- [ ] (.*)第一个匹配分组，.*代表匹配除换行符之外的所有字符\n",
    "- [ ] (.*?)第二个匹配分组，.*后面多个?，代表非贪婪模式，也就是说只是匹配符合条件的最少字符\n",
    "- [ ] 后面的一个分组没有()包着，所以不是分组，匹配效果和第一个效果一样，但是不计入统计"
   ]
  },
  {
   "cell_type": "markdown",
   "metadata": {},
   "source": [
    "## re.search()"
   ]
  },
  {
   "cell_type": "markdown",
   "metadata": {},
   "source": [
    "```\n",
    "re.search(pattern, string, flag=0)\n",
    "```"
   ]
  },
  {
   "cell_type": "code",
   "execution_count": 18,
   "metadata": {},
   "outputs": [
    {
     "name": "stdout",
     "output_type": "stream",
     "text": [
      "(0, 3)\n",
      "(10, 13)\n"
     ]
    }
   ],
   "source": [
    "import re\n",
    "print(re.search('www', 'www.baidu.com').span())\n",
    "print(re.search('com', 'www.baidu.com').span())"
   ]
  },
  {
   "cell_type": "code",
   "execution_count": 19,
   "metadata": {},
   "outputs": [
    {
     "name": "stdout",
     "output_type": "stream",
     "text": [
      "Cats are smarter than dogs\n",
      "Cats\n",
      "smarter\n"
     ]
    }
   ],
   "source": [
    "line = \"Cats are smarter than dogs\"\n",
    " \n",
    "matchObj = re.search( r'(.*) are (.*?) .*', line, re.M|re.I)\n",
    "\n",
    "if matchObj:\n",
    "    print(matchObj.group())\n",
    "    print(matchObj.group(1))\n",
    "    print(matchObj.group(2))"
   ]
  },
  {
   "cell_type": "markdown",
   "metadata": {},
   "source": [
    "## re.compile()"
   ]
  },
  {
   "cell_type": "markdown",
   "metadata": {},
   "source": [
    "```\n",
    "re.compile(pattern, flags)\n",
    "```\n",
    "compile 函数用于编译正则表达式，生成一个正则表达式（ Pattern ）对象，供 match() 和 search() 这两个函数使用。"
   ]
  },
  {
   "cell_type": "code",
   "execution_count": 25,
   "metadata": {},
   "outputs": [],
   "source": [
    "import re\n",
    "pattern = re.compile(r'\\d+') #用于匹配至少一个数字 "
   ]
  },
  {
   "cell_type": "code",
   "execution_count": 23,
   "metadata": {},
   "outputs": [
    {
     "data": {
      "text/plain": [
       "(0, 4)"
      ]
     },
     "execution_count": 23,
     "metadata": {},
     "output_type": "execute_result"
    }
   ],
   "source": [
    "re.match(pattern, '1232cgshcavcdw2we22h3').span() # 从开头匹配"
   ]
  },
  {
   "cell_type": "code",
   "execution_count": 24,
   "metadata": {},
   "outputs": [
    {
     "data": {
      "text/plain": [
       "(8, 14)"
      ]
     },
     "execution_count": 24,
     "metadata": {},
     "output_type": "execute_result"
    }
   ],
   "source": [
    "re.search(pattern, \"sxxbuywd127632scbdg2\").span()"
   ]
  },
  {
   "cell_type": "code",
   "execution_count": 26,
   "metadata": {},
   "outputs": [],
   "source": [
    "pattern = re.compile(r'([a-z]+) ([a-z]+)', re.I)   # re.I 表示忽略大小写"
   ]
  },
  {
   "cell_type": "code",
   "execution_count": 29,
   "metadata": {},
   "outputs": [
    {
     "name": "stdout",
     "output_type": "stream",
     "text": [
      "[('hello', 'world'), ('hello', 'web')]\n"
     ]
    }
   ],
   "source": [
    "m = re.findall(pattern, 'hello world hello web')\n",
    "print(m)"
   ]
  },
  {
   "cell_type": "markdown",
   "metadata": {},
   "source": [
    "## findall()"
   ]
  },
  {
   "cell_type": "code",
   "execution_count": 32,
   "metadata": {},
   "outputs": [
    {
     "name": "stdout",
     "output_type": "stream",
     "text": [
      "['123', '456']\n"
     ]
    }
   ],
   "source": [
    "import re\n",
    "\n",
    "pattern = re.compile(r'\\d+')\n",
    "res = re.findall(pattern, \"123 hello 456 dragon\")\n",
    "print(res)"
   ]
  },
  {
   "cell_type": "markdown",
   "metadata": {},
   "source": [
    "\\w是一个特殊字符，用于匹配字母、数字和下划线字符（即单词字符）\n"
   ]
  },
  {
   "cell_type": "code",
   "execution_count": 33,
   "metadata": {},
   "outputs": [
    {
     "name": "stdout",
     "output_type": "stream",
     "text": [
      "[('width', '20'), ('height', '10')]\n"
     ]
    }
   ],
   "source": [
    "import re\n",
    "\n",
    "result = re.findall(r'(\\w+)=(\\d+)', 'set width=20 and height=10')\n",
    "print(result)"
   ]
  }
 ],
 "metadata": {
  "kernelspec": {
   "display_name": "Python 3",
   "language": "python",
   "name": "python3"
  },
  "language_info": {
   "codemirror_mode": {
    "name": "ipython",
    "version": 3
   },
   "file_extension": ".py",
   "mimetype": "text/x-python",
   "name": "python",
   "nbconvert_exporter": "python",
   "pygments_lexer": "ipython3",
   "version": "3.10.10"
  }
 },
 "nbformat": 4,
 "nbformat_minor": 2
}
