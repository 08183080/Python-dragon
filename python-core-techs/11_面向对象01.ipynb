{
 "cells": [
  {
   "cell_type": "markdown",
   "metadata": {},
   "source": [
    "# 面向对象"
   ]
  },
  {
   "cell_type": "markdown",
   "metadata": {},
   "source": [
    "## 对象，你找到了吗"
   ]
  },
  {
   "cell_type": "code",
   "execution_count": 1,
   "metadata": {},
   "outputs": [
    {
     "name": "stdout",
     "output_type": "stream",
     "text": [
      "init function called\n",
      "Harry Potter\n",
      "J. K. Rowling\n",
      "77\n",
      "10\n"
     ]
    },
    {
     "ename": "AttributeError",
     "evalue": "'Document' object has no attribute '__context'",
     "output_type": "error",
     "traceback": [
      "\u001b[1;31m---------------------------------------------------------------------------\u001b[0m",
      "\u001b[1;31mAttributeError\u001b[0m                            Traceback (most recent call last)",
      "\u001b[1;32md:\\技术学习\\Python-dragon\\python-core-techs\\11_面向对象01.ipynb Cell 3\u001b[0m line \u001b[0;36m2\n\u001b[0;32m     <a href='vscode-notebook-cell:/d%3A/%E6%8A%80%E6%9C%AF%E5%AD%A6%E4%B9%A0/Python-dragon/python-core-techs/11_%E9%9D%A2%E5%90%91%E5%AF%B9%E8%B1%A101.ipynb#W2sZmlsZQ%3D%3D?line=19'>20</a>\u001b[0m harry_potter_book\u001b[39m.\u001b[39mintercept_context(\u001b[39m10\u001b[39m)\n\u001b[0;32m     <a href='vscode-notebook-cell:/d%3A/%E6%8A%80%E6%9C%AF%E5%AD%A6%E4%B9%A0/Python-dragon/python-core-techs/11_%E9%9D%A2%E5%90%91%E5%AF%B9%E8%B1%A101.ipynb#W2sZmlsZQ%3D%3D?line=21'>22</a>\u001b[0m \u001b[39mprint\u001b[39m(harry_potter_book\u001b[39m.\u001b[39mget_context_length())\n\u001b[1;32m---> <a href='vscode-notebook-cell:/d%3A/%E6%8A%80%E6%9C%AF%E5%AD%A6%E4%B9%A0/Python-dragon/python-core-techs/11_%E9%9D%A2%E5%90%91%E5%AF%B9%E8%B1%A101.ipynb#W2sZmlsZQ%3D%3D?line=23'>24</a>\u001b[0m \u001b[39mprint\u001b[39m(harry_potter_book\u001b[39m.\u001b[39;49m__context)\n",
      "\u001b[1;31mAttributeError\u001b[0m: 'Document' object has no attribute '__context'"
     ]
    }
   ],
   "source": [
    "class Document():\n",
    "    def __init__(self, title, author, context):\n",
    "        print('init function called')\n",
    "        self.title = title\n",
    "        self.author = author\n",
    "        self.__context = context # __ 开头的属性是私有属性\n",
    " \n",
    "    def get_context_length(self):\n",
    "        return len(self.__context)\n",
    " \n",
    "    def intercept_context(self, length):\n",
    "        self.__context = self.__context[:length]\n",
    " \n",
    "harry_potter_book = Document('Harry Potter', 'J. K. Rowling', '... Forever Do not believe any thing is capable of thinking independently ...')\n",
    " \n",
    "print(harry_potter_book.title)\n",
    "print(harry_potter_book.author)\n",
    "print(harry_potter_book.get_context_length())\n",
    " \n",
    "harry_potter_book.intercept_context(10)\n",
    " \n",
    "print(harry_potter_book.get_context_length())\n",
    " \n",
    "print(harry_potter_book.__context)"
   ]
  },
  {
   "cell_type": "markdown",
   "metadata": {},
   "source": [
    "## 继承，是每个富二代的梦想"
   ]
  },
  {
   "cell_type": "code",
   "execution_count": 2,
   "metadata": {},
   "outputs": [
    {
     "name": "stdout",
     "output_type": "stream",
     "text": [
      "Document class init called\n",
      "parent class init called\n",
      "Video class init called\n",
      "parent class init called\n",
      "document\n",
      "video\n",
      "Harry Potter(Book)\n",
      "Harry Potter(Movie)\n",
      "77\n",
      "120\n"
     ]
    }
   ],
   "source": [
    "class Entity():\n",
    "    def __init__(self, object_type):\n",
    "        print('parent class init called')\n",
    "        self.object_type = object_type\n",
    "    \n",
    "    def get_context_length(self):\n",
    "        raise Exception('get_context_length not implemented')\n",
    "    \n",
    "    def print_title(self):\n",
    "        print(self.title)\n",
    " \n",
    "class Document(Entity):\n",
    "    def __init__(self, title, author, context):\n",
    "        print('Document class init called')\n",
    "        Entity.__init__(self, 'document')\n",
    "        self.title = title\n",
    "        self.author = author\n",
    "        self.__context = context\n",
    "    \n",
    "    def get_context_length(self):\n",
    "        return len(self.__context)\n",
    "    \n",
    "class Video(Entity):\n",
    "    def __init__(self, title, author, video_length):\n",
    "        print('Video class init called')\n",
    "        Entity.__init__(self, 'video')\n",
    "        self.title = title\n",
    "        self.author = author\n",
    "        self.__video_length = video_length\n",
    "    \n",
    "    def get_context_length(self):\n",
    "        return self.__video_length\n",
    " \n",
    "harry_potter_book = Document('Harry Potter(Book)', 'J. K. Rowling', '... Forever Do not believe any thing is capable of thinking independently ...')\n",
    "harry_potter_movie = Video('Harry Potter(Movie)', 'J. K. Rowling', 120)\n",
    " \n",
    "print(harry_potter_book.object_type)\n",
    "print(harry_potter_movie.object_type)\n",
    " \n",
    "harry_potter_book.print_title()\n",
    "harry_potter_movie.print_title()\n",
    " \n",
    "print(harry_potter_book.get_context_length())\n",
    "print(harry_potter_movie.get_context_length())"
   ]
  },
  {
   "cell_type": "markdown",
   "metadata": {},
   "source": [
    "最后的最后，是抽象函数和抽象类..."
   ]
  },
  {
   "cell_type": "code",
   "execution_count": 3,
   "metadata": {},
   "outputs": [
    {
     "name": "stdout",
     "output_type": "stream",
     "text": [
      "Harry Potter\n"
     ]
    },
    {
     "ename": "TypeError",
     "evalue": "Can't instantiate abstract class Entity with abstract methods get_title, set_title",
     "output_type": "error",
     "traceback": [
      "\u001b[1;31m---------------------------------------------------------------------------\u001b[0m",
      "\u001b[1;31mTypeError\u001b[0m                                 Traceback (most recent call last)",
      "\u001b[1;32md:\\技术学习\\Python-dragon\\python-core-techs\\11_面向对象01.ipynb Cell 7\u001b[0m line \u001b[0;36m2\n\u001b[0;32m     <a href='vscode-notebook-cell:/d%3A/%E6%8A%80%E6%9C%AF%E5%AD%A6%E4%B9%A0/Python-dragon/python-core-techs/11_%E9%9D%A2%E5%90%91%E5%AF%B9%E8%B1%A101.ipynb#X11sZmlsZQ%3D%3D?line=18'>19</a>\u001b[0m document\u001b[39m.\u001b[39mset_title(\u001b[39m'\u001b[39m\u001b[39mHarry Potter\u001b[39m\u001b[39m'\u001b[39m)\n\u001b[0;32m     <a href='vscode-notebook-cell:/d%3A/%E6%8A%80%E6%9C%AF%E5%AD%A6%E4%B9%A0/Python-dragon/python-core-techs/11_%E9%9D%A2%E5%90%91%E5%AF%B9%E8%B1%A101.ipynb#X11sZmlsZQ%3D%3D?line=19'>20</a>\u001b[0m \u001b[39mprint\u001b[39m(document\u001b[39m.\u001b[39mget_title())\n\u001b[1;32m---> <a href='vscode-notebook-cell:/d%3A/%E6%8A%80%E6%9C%AF%E5%AD%A6%E4%B9%A0/Python-dragon/python-core-techs/11_%E9%9D%A2%E5%90%91%E5%AF%B9%E8%B1%A101.ipynb#X11sZmlsZQ%3D%3D?line=21'>22</a>\u001b[0m entity \u001b[39m=\u001b[39m Entity()\n",
      "\u001b[1;31mTypeError\u001b[0m: Can't instantiate abstract class Entity with abstract methods get_title, set_title"
     ]
    }
   ],
   "source": [
    "from abc import ABCMeta, abstractmethod\n",
    "class Entity(metaclass=ABCMeta):\n",
    "    @abstractmethod\n",
    "    def get_title(self):\n",
    "        pass\n",
    " \n",
    "    @abstractmethod\n",
    "    def set_title(self, title):\n",
    "        pass\n",
    " \n",
    "class Document(Entity):\n",
    "    def get_title(self):  # 封装\n",
    "        return self.title\n",
    "    \n",
    "    def set_title(self, title):\n",
    "        self.title = title\n",
    " \n",
    "document = Document()\n",
    "document.set_title('Harry Potter')\n",
    "print(document.get_title())\n",
    " \n",
    "entity = Entity()"
   ]
  },
  {
   "cell_type": "markdown",
   "metadata": {},
   "source": [
    "# 思考"
   ]
  },
  {
   "cell_type": "markdown",
   "metadata": {},
   "source": [
    "Q：面向对象编程四要素是啥？\n",
    "1. 抽象\n",
    "2. 封装\n",
    "3. 继承\n",
    "4. 多态"
   ]
  },
  {
   "cell_type": "markdown",
   "metadata": {},
   "source": [
    "# 其他例子"
   ]
  },
  {
   "cell_type": "markdown",
   "metadata": {},
   "source": [
    "## 多态"
   ]
  },
  {
   "cell_type": "markdown",
   "metadata": {},
   "source": [
    "当谈到多态时，通常会涉及到不同的类，这些类共享相同的方法名，但根据其具体的实现方式表现出不同的行为。这里是一个Python中的多态示例："
   ]
  },
  {
   "cell_type": "code",
   "execution_count": 2,
   "metadata": {},
   "outputs": [
    {
     "name": "stdout",
     "output_type": "stream",
     "text": [
      "汪汪汪！\n",
      "喵喵喵！\n",
      "嘎嘎嘎！\n"
     ]
    }
   ],
   "source": [
    "class Animal:\n",
    "    def speak(self):\n",
    "        pass\n",
    "\n",
    "class Dog(Animal):\n",
    "    def speak(self):\n",
    "        return \"汪汪汪！\"\n",
    "\n",
    "class Cat(Animal):\n",
    "    def speak(self):\n",
    "        return \"喵喵喵！\"\n",
    "\n",
    "class Duck(Animal):\n",
    "    def speak(self):\n",
    "        return \"嘎嘎嘎！\"\n",
    "\n",
    "# 创建一个动物列表\n",
    "animals = [Dog(), Cat(), Duck()]\n",
    "\n",
    "# 对于每个动物，调用它们的speak方法\n",
    "for animal in animals:\n",
    "    print(animal.speak())"
   ]
  },
  {
   "cell_type": "code",
   "execution_count": 15,
   "metadata": {},
   "outputs": [
    {
     "name": "stdout",
     "output_type": "stream",
     "text": [
      "男人欣赏多看几眼...\n",
      "女人觉得有些嫉妒...\n"
     ]
    }
   ],
   "source": [
    "\"\"\"\n",
    "python oop 多态\n",
    "同种行为, 不同实现\n",
    "譬如男人和女人看见美女的时候感受都不一样\n",
    "\"\"\"\n",
    "class human:\n",
    "    def see(self):\n",
    "        pass\n",
    "\n",
    "class male(human):\n",
    "    def see(self):\n",
    "        print(\"男人欣赏多看几眼...\")\n",
    "\n",
    "\n",
    "class female(human):\n",
    "    def see(self):\n",
    "        print(\"女人觉得有些嫉妒...\")\n",
    "\n",
    "m = male()    \n",
    "f = female()\n",
    "m.see()\n",
    "f.see()"
   ]
  },
  {
   "cell_type": "code",
   "execution_count": 18,
   "metadata": {},
   "outputs": [
    {
     "name": "stdout",
     "output_type": "stream",
     "text": [
      "大丈夫当如是也\n",
      "彼可取而代之\n"
     ]
    }
   ],
   "source": [
    "class human:\n",
    "    def see(self):\n",
    "        pass\n",
    "\n",
    "class male(human):\n",
    "    def see(self):\n",
    "        print(\"男人欣赏多看几眼...\")\n",
    "\n",
    "\n",
    "class hero(human):\n",
    "    def see_qinshihuang(self):\n",
    "        print(\"皇帝万岁万岁万万岁\")\n",
    "\n",
    "\n",
    "class liu_bang(hero, male):\n",
    "    def see_qinshihuang(self):\n",
    "        print(\"大丈夫当如是也\")\n",
    "    \n",
    "class xiang_yu(hero, male):\n",
    "    def see_qinshihuang(self):\n",
    "        print(\"彼可取而代之\")\n",
    "\n",
    "liu_bang = liu_bang()\n",
    "xiang_yu = xiang_yu()\n",
    "liu_bang.see_qinshihuang()\n",
    "xiang_yu.see_qinshihuang()"
   ]
  },
  {
   "cell_type": "markdown",
   "metadata": {},
   "source": [
    "# 抽象"
   ]
  },
  {
   "cell_type": "markdown",
   "metadata": {},
   "source": [
    "在Python中，抽象类是一种不能被实例化的类，通常用于定义一组方法的契约，而具体子类需要实现这些方法。抽象类经常用于建立一个接口，以确保其子类都实现了特定的行为。下面是一个简单的抽象类的例子："
   ]
  },
  {
   "cell_type": "code",
   "execution_count": 3,
   "metadata": {},
   "outputs": [
    {
     "name": "stdout",
     "output_type": "stream",
     "text": [
      "圆的面积: 78.5\n",
      "圆的周长: 31.400000000000002\n"
     ]
    }
   ],
   "source": [
    "from abc import ABC, abstractmethod\n",
    "\n",
    "# 创建一个抽象类\n",
    "class Shape(ABC):\n",
    "    @abstractmethod\n",
    "    def area(self):\n",
    "        pass\n",
    "\n",
    "    @abstractmethod\n",
    "    def perimeter(self):\n",
    "        pass\n",
    "\n",
    "# 创建一个具体的子类\n",
    "class Circle(Shape):\n",
    "    def __init__(self, radius):\n",
    "        self.radius = radius\n",
    "\n",
    "    def area(self):\n",
    "        return 3.14 * self.radius ** 2\n",
    "\n",
    "    def perimeter(self):\n",
    "        return 2 * 3.14 * self.radius\n",
    "\n",
    "# 尝试创建一个抽象类的实例会引发TypeError\n",
    "# shape = Shape()  # 这会引发TypeError\n",
    "\n",
    "\n",
    "# 创建一个子类的实例\n",
    "circle = Circle(5)\n",
    "print(\"圆的面积:\", circle.area())\n",
    "print(\"圆的周长:\", circle.perimeter())"
   ]
  },
  {
   "cell_type": "code",
   "execution_count": 21,
   "metadata": {},
   "outputs": [
    {
     "name": "stdout",
     "output_type": "stream",
     "text": [
      "正方形的周长:  24\n",
      "正方形的面积:  36\n"
     ]
    }
   ],
   "source": [
    "\"\"\"\n",
    "抽象类\n",
    "\"\"\"\n",
    "from abc import ABC, abstractclassmethod\n",
    "\n",
    "class shape(ABC):\n",
    "    @abstractclassmethod\n",
    "    def area(self):\n",
    "        pass\n",
    "\n",
    "    @abstractclassmethod\n",
    "    def perimeter(self):\n",
    "        pass\n",
    "\n",
    "class square(shape):\n",
    "    def __init__(self, length) -> None:\n",
    "        super().__init__()\n",
    "        self.length = length\n",
    "    \n",
    "    def area(self):\n",
    "        return self.length * self.length\n",
    "    \n",
    "    def perimeter(self):\n",
    "        return 4 * self.length\n",
    "\n",
    "# shape = shape() # 抽象类是无法实例化的,因为它太抽象了。。。\n",
    "\n",
    "s = square(6)\n",
    "print(\"正方形的周长: \", s.perimeter())\n",
    "print(\"正方形的面积: \", s.area())"
   ]
  },
  {
   "cell_type": "markdown",
   "metadata": {},
   "source": [
    "在这个示例中，我们定义了一个抽象类Shape，它包含两个抽象方法area和perimeter。然后，我们创建了一个具体的子类Circle，它继承了Shape类，并实现了area和perimeter方法。抽象类确保了所有子类都实现了这两个方法。\n",
    "\n",
    "请注意，尝试创建抽象类Shape的实例会引发TypeError，因为抽象类不能被直接实例化。但是，我们可以创建Circle类的实例，并调用其方法来计算圆的面积和周长。这个例子展示了抽象类的概念，它强制子类提供特定的方法实现，以确保一致性和规范。"
   ]
  },
  {
   "cell_type": "markdown",
   "metadata": {},
   "source": [
    "# 继承"
   ]
  },
  {
   "cell_type": "code",
   "execution_count": 5,
   "metadata": {},
   "outputs": [
    {
     "name": "stdout",
     "output_type": "stream",
     "text": [
      "旺财 说：汪汪汪！\n",
      "咪咪 说：喵喵喵！\n"
     ]
    }
   ],
   "source": [
    "# 定义一个父类\n",
    "class Animal:\n",
    "    def __init__(self, name):\n",
    "        self.name = name\n",
    "\n",
    "    def speak(self):\n",
    "        pass\n",
    "\n",
    "# 定义子类继承父类\n",
    "class Dog(Animal):\n",
    "    def speak(self):\n",
    "        return f\"{self.name} 说：汪汪汪！\"\n",
    "\n",
    "class Cat(Animal):\n",
    "    def speak(self):\n",
    "        return f\"{self.name} 说：喵喵喵！\"\n",
    "\n",
    "# 创建子类的实例\n",
    "dog = Dog(\"旺财\")\n",
    "cat = Cat(\"咪咪\")\n",
    "\n",
    "# 调用子类的方法\n",
    "print(dog.speak())  # 输出：旺财 说：汪汪汪！\n",
    "print(cat.speak())  # 输出：咪咪 说：喵喵喵！"
   ]
  },
  {
   "cell_type": "markdown",
   "metadata": {},
   "source": [
    "# 封装"
   ]
  },
  {
   "cell_type": "code",
   "execution_count": 9,
   "metadata": {},
   "outputs": [
    {
     "name": "stdout",
     "output_type": "stream",
     "text": [
      "学生姓名: Alice, 年龄: 20\n",
      "Alice\n"
     ]
    },
    {
     "ename": "AttributeError",
     "evalue": "'Student' object has no attribute '__study'",
     "output_type": "error",
     "traceback": [
      "\u001b[1;31m---------------------------------------------------------------------------\u001b[0m",
      "\u001b[1;31mAttributeError\u001b[0m                            Traceback (most recent call last)",
      "\u001b[1;32md:\\技术学习\\Python-dragon\\python-core-techs\\11_面向对象01.ipynb Cell 21\u001b[0m line \u001b[0;36m2\n\u001b[0;32m     <a href='vscode-notebook-cell:/d%3A/%E6%8A%80%E6%9C%AF%E5%AD%A6%E4%B9%A0/Python-dragon/python-core-techs/11_%E9%9D%A2%E5%90%91%E5%AF%B9%E8%B1%A101.ipynb#X31sZmlsZQ%3D%3D?line=19'>20</a>\u001b[0m \u001b[39m# 试图直接访问私有属性和方法会引发AttributeError\u001b[39;00m\n\u001b[0;32m     <a href='vscode-notebook-cell:/d%3A/%E6%8A%80%E6%9C%AF%E5%AD%A6%E4%B9%A0/Python-dragon/python-core-techs/11_%E9%9D%A2%E5%90%91%E5%AF%B9%E8%B1%A101.ipynb#X31sZmlsZQ%3D%3D?line=20'>21</a>\u001b[0m \u001b[39mprint\u001b[39m(student\u001b[39m.\u001b[39m_name)  \u001b[39m# 这会引发AttributeError\u001b[39;00m\n\u001b[1;32m---> <a href='vscode-notebook-cell:/d%3A/%E6%8A%80%E6%9C%AF%E5%AD%A6%E4%B9%A0/Python-dragon/python-core-techs/11_%E9%9D%A2%E5%90%91%E5%AF%B9%E8%B1%A101.ipynb#X31sZmlsZQ%3D%3D?line=21'>22</a>\u001b[0m \u001b[39mprint\u001b[39m(student\u001b[39m.\u001b[39;49m__study(\u001b[39m\"\u001b[39m\u001b[39mMath\u001b[39m\u001b[39m\"\u001b[39m))  \u001b[39m# 这会引发AttributeError\u001b[39;00m\n\u001b[0;32m     <a href='vscode-notebook-cell:/d%3A/%E6%8A%80%E6%9C%AF%E5%AD%A6%E4%B9%A0/Python-dragon/python-core-techs/11_%E9%9D%A2%E5%90%91%E5%AF%B9%E8%B1%A101.ipynb#X31sZmlsZQ%3D%3D?line=23'>24</a>\u001b[0m \u001b[39m# 但我们可以通过公共方法来访问私有属性和方法\u001b[39;00m\n\u001b[0;32m     <a href='vscode-notebook-cell:/d%3A/%E6%8A%80%E6%9C%AF%E5%AD%A6%E4%B9%A0/Python-dragon/python-core-techs/11_%E9%9D%A2%E5%90%91%E5%AF%B9%E8%B1%A101.ipynb#X31sZmlsZQ%3D%3D?line=24'>25</a>\u001b[0m \u001b[39mprint\u001b[39m(student\u001b[39m.\u001b[39m__study(\u001b[39m\"\u001b[39m\u001b[39mMath\u001b[39m\u001b[39m\"\u001b[39m))  \u001b[39m# 输出：Alice正在学习Math\u001b[39;00m\n",
      "\u001b[1;31mAttributeError\u001b[0m: 'Student' object has no attribute '__study'"
     ]
    }
   ],
   "source": [
    "class Student:\n",
    "    def __init__(self, name, age):\n",
    "        self._name = name  # 使用下划线表示属性是受保护的\n",
    "        self._age = age\n",
    "\n",
    "    # 公共方法用于获取学生信息\n",
    "    def get_info(self):\n",
    "        return f\"学生姓名: {self._name}, 年龄: {self._age}\"\n",
    "\n",
    "    # 私有方法\n",
    "    def __study(self, subject):\n",
    "        return f\"{self._name}正在学习{subject}\"\n",
    "\n",
    "# 创建一个学生对象\n",
    "student = Student(\"Alice\", 20)\n",
    "\n",
    "# 访问公共方法获取学生信息\n",
    "print(student.get_info())  # 输出：学生姓名: Alice, 年龄: 20\n",
    "\n",
    "# 试图直接访问私有属性和方法会引发AttributeError\n",
    "print(student._name)  # 这会引发AttributeError\n",
    "print(student.__study(\"Math\"))  # 这会引发AttributeError\n",
    "\n",
    "# 但我们可以通过公共方法来访问私有属性和方法\n",
    "print(student.__study(\"Math\"))  # 输出：Alice正在学习Math"
   ]
  }
 ],
 "metadata": {
  "kernelspec": {
   "display_name": "Python 3",
   "language": "python",
   "name": "python3"
  },
  "language_info": {
   "codemirror_mode": {
    "name": "ipython",
    "version": 3
   },
   "file_extension": ".py",
   "mimetype": "text/x-python",
   "name": "python",
   "nbconvert_exporter": "python",
   "pygments_lexer": "ipython3",
   "version": "3.10.10"
  }
 },
 "nbformat": 4,
 "nbformat_minor": 2
}
