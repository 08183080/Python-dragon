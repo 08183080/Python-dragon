{
 "cells": [
  {
   "cell_type": "code",
   "execution_count": 9,
   "metadata": {},
   "outputs": [
    {
     "name": "stdout",
     "output_type": "stream",
     "text": [
      "0b1111\n",
      "15\n"
     ]
    }
   ],
   "source": [
    "from functools import reduce\n",
    "word = \"abcd\"\n",
    "mask = reduce(lambda a, b: a | (1 << (ord(b) - ord('a'))), word, 0)\n",
    "print(bin(mask)) # 二进制\n",
    "print(mask) "
   ]
  },
  {
   "cell_type": "code",
   "execution_count": 2,
   "metadata": {},
   "outputs": [
    {
     "data": {
      "text/plain": [
       "98"
      ]
     },
     "execution_count": 2,
     "metadata": {},
     "output_type": "execute_result"
    }
   ],
   "source": [
    "ord('b')"
   ]
  },
  {
   "cell_type": "code",
   "execution_count": 4,
   "metadata": {},
   "outputs": [
    {
     "name": "stdout",
     "output_type": "stream",
     "text": [
      "120\n"
     ]
    }
   ],
   "source": [
    "nums = [1, 2, 3, 4, 5]\n",
    "producct = reduce(lambda x, y: x * y, nums)\n",
    "print(producct)"
   ]
  },
  {
   "cell_type": "code",
   "execution_count": 8,
   "metadata": {},
   "outputs": [
    {
     "ename": "TypeError",
     "evalue": "'int' object is not callable",
     "output_type": "error",
     "traceback": [
      "\u001b[1;31m---------------------------------------------------------------------------\u001b[0m",
      "\u001b[1;31mTypeError\u001b[0m                                 Traceback (most recent call last)",
      "\u001b[1;32md:\\技术学习\\Python-dragon\\python-core-techs\\17_列表推导式.ipynb Cell 4\u001b[0m line \u001b[0;36m3\n\u001b[0;32m      <a href='vscode-notebook-cell:/d%3A/%E6%8A%80%E6%9C%AF%E5%AD%A6%E4%B9%A0/Python-dragon/python-core-techs/17_%E5%88%97%E8%A1%A8%E6%8E%A8%E5%AF%BC%E5%BC%8F.ipynb#W4sZmlsZQ%3D%3D?line=0'>1</a>\u001b[0m masks \u001b[39m=\u001b[39m [\u001b[39m\"\u001b[39m\u001b[39md\u001b[39m\u001b[39m\"\u001b[39m, \u001b[39m\"\u001b[39m\u001b[39mc\u001b[39m\u001b[39m\"\u001b[39m, \u001b[39m\"\u001b[39m\u001b[39md\u001b[39m\u001b[39m\"\u001b[39m]\n\u001b[0;32m      <a href='vscode-notebook-cell:/d%3A/%E6%8A%80%E6%9C%AF%E5%AD%A6%E4%B9%A0/Python-dragon/python-core-techs/17_%E5%88%97%E8%A1%A8%E6%8E%A8%E5%AF%BC%E5%BC%8F.ipynb#W4sZmlsZQ%3D%3D?line=1'>2</a>\u001b[0m words \u001b[39m=\u001b[39m [\u001b[39m\"\u001b[39m\u001b[39mdog\u001b[39m\u001b[39m\"\u001b[39m, \u001b[39m\"\u001b[39m\u001b[39mcat\u001b[39m\u001b[39m\"\u001b[39m, \u001b[39m\"\u001b[39m\u001b[39mdragon\u001b[39m\u001b[39m\"\u001b[39m]\n\u001b[1;32m----> <a href='vscode-notebook-cell:/d%3A/%E6%8A%80%E6%9C%AF%E5%AD%A6%E4%B9%A0/Python-dragon/python-core-techs/17_%E5%88%97%E8%A1%A8%E6%8E%A8%E5%AF%BC%E5%BC%8F.ipynb#W4sZmlsZQ%3D%3D?line=2'>3</a>\u001b[0m producct(\u001b[39mzip\u001b[39;49m(masks, words))\n",
      "\u001b[1;31mTypeError\u001b[0m: 'int' object is not callable"
     ]
    }
   ],
   "source": [
    "masks = [\"d\", \"c\", \"d\"]\n",
    "words = [\"dog\", \"cat\", \"dragon\"]"
   ]
  },
  {
   "cell_type": "code",
   "execution_count": null,
   "metadata": {},
   "outputs": [],
   "source": []
  }
 ],
 "metadata": {
  "kernelspec": {
   "display_name": "Python 3",
   "language": "python",
   "name": "python3"
  },
  "language_info": {
   "codemirror_mode": {
    "name": "ipython",
    "version": 3
   },
   "file_extension": ".py",
   "mimetype": "text/x-python",
   "name": "python",
   "nbconvert_exporter": "python",
   "pygments_lexer": "ipython3",
   "version": "3.10.10"
  }
 },
 "nbformat": 4,
 "nbformat_minor": 2
}
