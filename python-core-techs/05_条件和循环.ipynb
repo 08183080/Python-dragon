{
 "cells": [
  {
   "cell_type": "code",
   "execution_count": 1,
   "metadata": {},
   "outputs": [
    {
     "data": {
      "text/plain": [
       "{'name': 'dragon', 'age': 12, 'love': 'douyin'}"
      ]
     },
     "execution_count": 1,
     "metadata": {},
     "output_type": "execute_result"
    }
   ],
   "source": [
    "dict = {'name':'dragon', 'age':12, 'love':'douyin'}\n",
    "dict"
   ]
  },
  {
   "cell_type": "code",
   "execution_count": 15,
   "metadata": {},
   "outputs": [
    {
     "name": "stdout",
     "output_type": "stream",
     "text": [
      "0 name\n",
      "1 age\n",
      "2 love\n"
     ]
    }
   ],
   "source": [
    "for k, v in enumerate(dict): #只能访问键哦...\n",
    "    print(k, v)"
   ]
  },
  {
   "cell_type": "markdown",
   "metadata": {},
   "source": [
    "### 温习\n",
    "字典通过items()方法可以转换成元组列表的\n",
    "### 可迭代\n",
    "1. Python中可迭代的对象: \n",
    "列表、元组、字典、集合\n",
    "字典只可以迭代键key\n",
    "2. Python中不可迭代的对象:\n",
    "字符串str"
   ]
  },
  {
   "cell_type": "code",
   "execution_count": 3,
   "metadata": {},
   "outputs": [
    {
     "name": "stdout",
     "output_type": "stream",
     "text": [
      "name dragon\n",
      "age 12\n",
      "love douyin\n"
     ]
    }
   ],
   "source": [
    "for k, v in dict.items():\n",
    "    print(k, v)"
   ]
  },
  {
   "cell_type": "code",
   "execution_count": 6,
   "metadata": {},
   "outputs": [
    {
     "name": "stdout",
     "output_type": "stream",
     "text": [
      "name\n",
      "dob\n",
      "gender\n",
      "jason\n",
      "2000-01-01\n",
      "male\n",
      "name : jason\n",
      "dob : 2000-01-01\n",
      "gender : male\n"
     ]
    }
   ],
   "source": [
    "# 【自勉】小事都不能尽心做好, 如何做大事呢?\n",
    "# python中的字典只可以迭代键\n",
    "d = {'name': 'jason', 'dob': '2000-01-01', 'gender': 'male'}\n",
    "for k in d:# 遍历字典的键\n",
    "    print(k)\n",
    "for v in d.values():# 遍历字典的值\n",
    "    print(v)\n",
    "for k, v in d.items(): # 遍历字典的键和值\n",
    "    print(k, ':', v)"
   ]
  },
  {
   "cell_type": "code",
   "execution_count": 10,
   "metadata": {},
   "outputs": [
    {
     "name": "stdout",
     "output_type": "stream",
     "text": [
      "0 1\n",
      "1 2\n",
      "2 luffy\n"
     ]
    }
   ],
   "source": [
    "s = (1, 2 , \"luffy\")\n",
    "for i,e in enumerate(s): # 通过enumerate()函数可以获得集合的索引和数值\n",
    "    print(i, e)"
   ]
  },
  {
   "cell_type": "markdown",
   "metadata": {},
   "source": [
    "expression1 if condition else expression2 for item in iterable\n",
    "expr2 for item in iterable if cond "
   ]
  },
  {
   "cell_type": "code",
   "execution_count": 12,
   "metadata": {},
   "outputs": [
    {
     "data": {
      "text/plain": [
       "[7, 9, 11, 13]"
      ]
     },
     "execution_count": 12,
     "metadata": {},
     "output_type": "execute_result"
    }
   ],
   "source": [
    "# y = 2*|x| + 5 \n",
    "x = [1, 2, 3, 4]\n",
    "y = [2*value + 5 if value > 0 else -2*value + 5 for value in x]\n",
    "y"
   ]
  },
  {
   "cell_type": "code",
   "execution_count": 14,
   "metadata": {},
   "outputs": [
    {
     "data": {
      "text/plain": [
       "['Hello', 'Xie hou long.']"
      ]
     },
     "execution_count": 14,
     "metadata": {},
     "output_type": "execute_result"
    }
   ],
   "source": [
    "text = 'Hello, Xie hou long.'\n",
    "# 将文件中逐行读取的一个完整语句，按逗号分割单词，去掉首位的空字符，并过滤掉长度小于等于 3 的单词，最后返回由单词组成的列表\n",
    "res = [s.strip() for s in text.split(',') if len(s.strip()) > 3]\n",
    "res"
   ]
  },
  {
   "cell_type": "code",
   "execution_count": 16,
   "metadata": {},
   "outputs": [],
   "source": [
    "# 思考题"
   ]
  },
  {
   "cell_type": "code",
   "execution_count": 17,
   "metadata": {},
   "outputs": [
    {
     "data": {
      "text/plain": [
       "[{'name': 'jason', 'dob': '2000-01-01', 'gender': 'male'},\n",
       " {'name': 'mike', 'dob': '1999-01-01', 'gender': 'male'},\n",
       " {'name': 'nancy', 'dob': '2001-02-01', 'gender': 'female'}]"
      ]
     },
     "execution_count": 17,
     "metadata": {},
     "output_type": "execute_result"
    }
   ],
   "source": [
    "attributes = ['name', 'dob', 'gender']\n",
    "values = [['jason', '2000-01-01', 'male'], \n",
    "['mike', '1999-01-01', 'male'],\n",
    "['nancy', '2001-02-01', 'female']\n",
    "]\n",
    " \n",
    "# expected outout:\n",
    "[{'name': 'jason', 'dob': '2000-01-01', 'gender': 'male'}, \n",
    "{'name': 'mike', 'dob': '1999-01-01', 'gender': 'male'}, \n",
    "{'name': 'nancy', 'dob': '2001-02-01', 'gender': 'female'}]"
   ]
  },
  {
   "cell_type": "code",
   "execution_count": 20,
   "metadata": {},
   "outputs": [
    {
     "data": {
      "text/plain": [
       "[{'name': 'female'}, {'dob': 'female'}, {'gender': 'female'}]"
      ]
     },
     "execution_count": 20,
     "metadata": {},
     "output_type": "execute_result"
    }
   ],
   "source": [
    "# 多行循环\n",
    "ans = []\n",
    "for a in attributes:\n",
    "    dic = {}\n",
    "    for v in values:\n",
    "        for e in v:\n",
    "            dic[a] = e\n",
    "    ans.append(dic)\n",
    "ans"
   ]
  },
  {
   "cell_type": "code",
   "execution_count": 21,
   "metadata": {},
   "outputs": [
    {
     "ename": "SyntaxError",
     "evalue": "invalid syntax (167988948.py, line 2)",
     "output_type": "error",
     "traceback": [
      "\u001b[1;36m  Cell \u001b[1;32mIn[21], line 2\u001b[1;36m\u001b[0m\n\u001b[1;33m    ans = [dic for a in attributes dic = {} for v in values for e in v dic[a] = e ans.append(dic)]\u001b[0m\n\u001b[1;37m                                   ^\u001b[0m\n\u001b[1;31mSyntaxError\u001b[0m\u001b[1;31m:\u001b[0m invalid syntax\n"
     ]
    }
   ],
   "source": [
    "# 单行循环\n",
    "ans = [dic for a in attributes dic = {} for v in values for e in v dic[a] = e ans.append(dic)]\n",
    "ans"
   ]
  },
  {
   "cell_type": "code",
   "execution_count": 27,
   "metadata": {},
   "outputs": [
    {
     "data": {
      "text/plain": [
       "[{'name': 'jason'},\n",
       " {'name': '2000-01-01'},\n",
       " {'name': 'male'},\n",
       " {'name': 'mike'},\n",
       " {'name': '1999-01-01'},\n",
       " {'name': 'male'},\n",
       " {'name': 'nancy'},\n",
       " {'name': '2001-02-01'},\n",
       " {'name': 'female'},\n",
       " {'dob': 'jason'},\n",
       " {'dob': '2000-01-01'},\n",
       " {'dob': 'male'},\n",
       " {'dob': 'mike'},\n",
       " {'dob': '1999-01-01'},\n",
       " {'dob': 'male'},\n",
       " {'dob': 'nancy'},\n",
       " {'dob': '2001-02-01'},\n",
       " {'dob': 'female'},\n",
       " {'gender': 'jason'},\n",
       " {'gender': '2000-01-01'},\n",
       " {'gender': 'male'},\n",
       " {'gender': 'mike'},\n",
       " {'gender': '1999-01-01'},\n",
       " {'gender': 'male'},\n",
       " {'gender': 'nancy'},\n",
       " {'gender': '2001-02-01'},\n",
       " {'gender': 'female'}]"
      ]
     },
     "execution_count": 27,
     "metadata": {},
     "output_type": "execute_result"
    }
   ],
   "source": [
    "ans = [{a:e} for a in attributes for v in values for e in v]\n",
    "ans"
   ]
  }
 ],
 "metadata": {
  "kernelspec": {
   "display_name": "Python 3",
   "language": "python",
   "name": "python3"
  },
  "language_info": {
   "codemirror_mode": {
    "name": "ipython",
    "version": 3
   },
   "file_extension": ".py",
   "mimetype": "text/x-python",
   "name": "python",
   "nbconvert_exporter": "python",
   "pygments_lexer": "ipython3",
   "version": "3.10.10"
  }
 },
 "nbformat": 4,
 "nbformat_minor": 2
}
